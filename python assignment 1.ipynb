{
 "cells": [
  {
   "cell_type": "markdown",
   "id": "97a40b08",
   "metadata": {},
   "source": [
    "1- * , - , / , +"
   ]
  },
  {
   "cell_type": "markdown",
   "id": "44a75423",
   "metadata": {},
   "source": [
    "2-i-String is a collection of alphabet,words and other character.String-is a datatype that is always written in double quotes.String objects are iterable.Ex-'shivanshu','456','[,4,5]','shi'\n",
    "ii-Variable-We can say that varialbe is a container that is used to store different data type .Ex-a=48,s='shiva' in these examples a and s are variable.Datatypes can be string,int ,tuple list,array etc"
   ]
  },
  {
   "cell_type": "markdown",
   "id": "5a542ccb",
   "metadata": {},
   "source": [
    "3-Three different datatypes are-\n",
    "i-Integer-It represent the numeric values in python. Ex-48,96,78\n",
    "ii-List-It represent a range of value in big bracket that can store different type of data like integer,float,string,tuple.List are mutable.Ex-[48,69,'shiav']\n",
    "iii-Dictionary-Datatypes which store value in the form of key value pair .Dictionary are unordered and value are accesed with the help of keys.Ex={'shiav':48,'ineuron':63}"
   ]
  },
  {
   "cell_type": "markdown",
   "id": "3265de2a",
   "metadata": {},
   "source": [
    "4-Expression is a combination of operator and opearand that is interpreted to produce some other value.."
   ]
  },
  {
   "cell_type": "markdown",
   "id": "9f65a4c0",
   "metadata": {},
   "source": [
    "5-Expression is a combination of operator and operand whereas statement can be defined as instruction written for execution."
   ]
  },
  {
   "cell_type": "markdown",
   "id": "e104fa7b",
   "metadata": {},
   "source": [
    "6-23"
   ]
  },
  {
   "cell_type": "markdown",
   "id": "1a2f35ef",
   "metadata": {},
   "source": [
    "7-'spamspamspam'\n",
    "  ii-'spamspamspam'"
   ]
  },
  {
   "cell_type": "markdown",
   "id": "8d0ff4ec",
   "metadata": {},
   "source": [
    "8-Because according to the rule of variable ,variable name can not be numeric wheres variable name can be string"
   ]
  },
  {
   "cell_type": "markdown",
   "id": "aaa428e5",
   "metadata": {},
   "source": [
    "9-int()-To convert a value into integer ,\n",
    "flaot()-To convert a value into floating number ,\n",
    "str()-To convert a value into string"
   ]
  },
  {
   "cell_type": "markdown",
   "id": "68df6633",
   "metadata": {},
   "source": [
    "10-Because you can not concatenate a numeric value to a string. To remove the error we have to convert that numeric value into string ,like we can do typecasting.."
   ]
  },
  {
   "cell_type": "code",
   "execution_count": null,
   "id": "fea92a2b",
   "metadata": {},
   "outputs": [],
   "source": []
  },
  {
   "cell_type": "code",
   "execution_count": null,
   "id": "30d1bae7",
   "metadata": {},
   "outputs": [],
   "source": []
  }
 ],
 "metadata": {
  "kernelspec": {
   "display_name": "Python 3 (ipykernel)",
   "language": "python",
   "name": "python3"
  },
  "language_info": {
   "codemirror_mode": {
    "name": "ipython",
    "version": 3
   },
   "file_extension": ".py",
   "mimetype": "text/x-python",
   "name": "python",
   "nbconvert_exporter": "python",
   "pygments_lexer": "ipython3",
   "version": "3.9.12"
  }
 },
 "nbformat": 4,
 "nbformat_minor": 5
}
